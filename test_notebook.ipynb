{
 "cells": [
  {
   "cell_type": "code",
   "execution_count": 7,
   "id": "45326bcb-6dfc-42f0-8ad1-d85092756805",
   "metadata": {},
   "outputs": [],
   "source": [
    "import numpy as np\n",
    "import pandas as pd\n",
    "import matplotlib.pyplot as plt\n",
    "import pickle\n",
    "from src.bert_sentiment import BertAmazonSentiment\n",
    "import seaborn as sn"
   ]
  },
  {
   "cell_type": "code",
   "execution_count": 3,
   "id": "0875a0a8-89a1-4874-a8d6-b1c2f6a862a5",
   "metadata": {},
   "outputs": [],
   "source": [
    "class DummySentimentClassifier:\n",
    "    \"\"\"\n",
    "    For testing purposes, predicts on a list of strings by marking them\n",
    "    all as negative sentiment, harsh!\n",
    "    \"\"\"\n",
    "    def predict(self, string_list):\n",
    "        return np.zeros(len(string_list))\n",
    "    \n",
    "    def predict_one(self, string):\n",
    "        return predict([string])"
   ]
  },
  {
   "cell_type": "code",
   "execution_count": 5,
   "id": "f423bab7-8d2b-40bb-ae6d-00a23dc365ca",
   "metadata": {},
   "outputs": [],
   "source": [
    "dummy = DummySentimentClassifier()"
   ]
  },
  {
   "cell_type": "code",
   "execution_count": 6,
   "id": "914776c5-3b41-422c-b560-cbee95ac6ef9",
   "metadata": {},
   "outputs": [],
   "source": [
    "with open('./flask/flask-JH/app/dummy.pkl', 'wb') as f:\n",
    "    pickle.dump(dummy, f)"
   ]
  },
  {
   "cell_type": "code",
   "execution_count": 2,
   "id": "49bd0be1-2583-41e7-abb1-b4062f43f23b",
   "metadata": {},
   "outputs": [],
   "source": [
    "pkl_path = 'app/models/amazon_reviews/'\n",
    "bert = BertAmazonSentiment(pkl_path)"
   ]
  },
  {
   "cell_type": "code",
   "execution_count": 3,
   "id": "d3437d92-bcca-44fa-83f7-7305c91d063b",
   "metadata": {},
   "outputs": [],
   "source": [
    "test_strings = ['This ting bussin bussin, drippin glizzy juice down my bootty hole']"
   ]
  },
  {
   "cell_type": "code",
   "execution_count": 4,
   "id": "7066afff-4a60-4767-9617-f8813b39b84c",
   "metadata": {},
   "outputs": [],
   "source": [
    "test_string = test_strings[0]"
   ]
  },
  {
   "cell_type": "code",
   "execution_count": 5,
   "id": "b26fdfd2-fa28-4c81-9f8c-b28e4a431ea7",
   "metadata": {},
   "outputs": [
    {
     "data": {
      "text/plain": [
       "'BERT is 98.8% sure your review is positive.'"
      ]
     },
     "execution_count": 5,
     "metadata": {},
     "output_type": "execute_result"
    }
   ],
   "source": [
    "bert.pretty_classify_one(test_string)"
   ]
  },
  {
   "cell_type": "code",
   "execution_count": 8,
   "id": "658d7a60-bf60-48af-b1bc-427b108440ab",
   "metadata": {},
   "outputs": [],
   "source": [
    "bert_result = bert.classify(test_strings)[0]"
   ]
  },
  {
   "cell_type": "code",
   "execution_count": 12,
   "id": "84f36e6f-3569-45c6-b493-d7171d3959e6",
   "metadata": {},
   "outputs": [],
   "source": [
    "idx = np.argmax(bert_result)"
   ]
  },
  {
   "cell_type": "code",
   "execution_count": 13,
   "id": "a0d5c393-6155-491e-8ff2-680a9c0077e5",
   "metadata": {},
   "outputs": [],
   "source": [
    "sentiment_dict = {0: 'negative', 1:'positive'}"
   ]
  },
  {
   "cell_type": "code",
   "execution_count": 21,
   "id": "9f081835-a75c-4639-a56f-5622f71d3895",
   "metadata": {},
   "outputs": [
    {
     "name": "stdout",
     "output_type": "stream",
     "text": [
      "BERT is 98.8% sure your review is positive.\n"
     ]
    }
   ],
   "source": [
    "print('BERT is {0:.1f}% sure your review is {1}.'.format(100*bert_result[idx], sentiment_dict[idx]))"
   ]
  },
  {
   "cell_type": "code",
   "execution_count": 3,
   "id": "a5cc37ef-056f-4990-aebf-9f8d98693bfc",
   "metadata": {},
   "outputs": [],
   "source": [
    "confusion_mat = np.array([[0.4850275, 0.0149725],\n",
    "       [0.01496  , 0.48504  ]])"
   ]
  },
  {
   "cell_type": "code",
   "execution_count": 4,
   "id": "4660095e-ebae-4dbf-9d4e-cb001385a790",
   "metadata": {},
   "outputs": [
    {
     "data": {
      "text/plain": [
       "array([[0.4850275, 0.0149725],\n",
       "       [0.01496  , 0.48504  ]])"
      ]
     },
     "execution_count": 4,
     "metadata": {},
     "output_type": "execute_result"
    }
   ],
   "source": [
    "confusion_mat"
   ]
  },
  {
   "cell_type": "code",
   "execution_count": 6,
   "id": "907ff399-cb96-4cb8-b436-49515756d51a",
   "metadata": {},
   "outputs": [
    {
     "data": {
      "text/plain": [
       "<matplotlib.image.AxesImage at 0x7f0d69afad30>"
      ]
     },
     "execution_count": 6,
     "metadata": {},
     "output_type": "execute_result"
    },
    {
     "data": {
      "image/png": "[encoded data removed]",
      "text/plain": [
       "<Figure size 288x288 with 1 Axes>"
      ]
     },
     "metadata": {
      "needs_background": "light"
     },
     "output_type": "display_data"
    }
   ],
   "source": [
    "plt.matshow(confusion_mat)"
   ]
  },
  {
   "cell_type": "code",
   "execution_count": 16,
   "id": "a84f0d69-838d-41a6-9609-838e76e01dbc",
   "metadata": {},
   "outputs": [
    {
     "data": {
      "image/png": "[encoded data removed]",
      "text/plain": [
       "<Figure size 432x288 with 2 Axes>"
      ]
     },
     "metadata": {},
     "output_type": "display_data"
    }
   ],
   "source": [
    "array = confusion_mat\n",
    "\n",
    "df_cm = pd.DataFrame(2*array, index=['--','+'], columns=['--','+'])\n",
    "# plt.figure(figsize=(10,7))\n",
    "sn.set(font_scale=1.4) # for label size\n",
    "sn.heatmap(df_cm, annot=True, annot_kws={\"size\": 16}) # font size\n",
    "\n",
    "plt.savefig('confusion_matrix.png')"
   ]
  },
  {
   "cell_type": "code",
   "execution_count": null,
   "id": "a9d5f0d1-1b0d-485d-b002-91e05701292a",
   "metadata": {},
   "outputs": [],
   "source": []
  }
 ],
 "metadata": {
  "kernelspec": {
   "display_name": "Python 3",
   "language": "python",
   "name": "python3"
  },
  "language_info": {
   "codemirror_mode": {
    "name": "ipython",
    "version": 3
   },
   "file_extension": ".py",
   "mimetype": "text/x-python",
   "name": "python",
   "nbconvert_exporter": "python",
   "pygments_lexer": "ipython3",
   "version": "3.8.8"
  }
 },
 "nbformat": 4,
 "nbformat_minor": 5
}
