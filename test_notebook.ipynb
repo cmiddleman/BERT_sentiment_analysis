{
 "cells": [
  {
   "cell_type": "code",
   "execution_count": 2,
   "id": "45326bcb-6dfc-42f0-8ad1-d85092756805",
   "metadata": {},
   "outputs": [],
   "source": [
    "import numpy as np\n",
    "import pandas as pd\n",
    "import matplotlib.pyplot as plt\n",
    "import pickle"
   ]
  },
  {
   "cell_type": "code",
   "execution_count": 3,
   "id": "0875a0a8-89a1-4874-a8d6-b1c2f6a862a5",
   "metadata": {},
   "outputs": [],
   "source": [
    "class DummySentimentClassifier:\n",
    "    \"\"\"\n",
    "    For testing purposes, predicts on a list of strings by marking them\n",
    "    all as negative sentiment, harsh!\n",
    "    \"\"\"\n",
    "    def predict(self, string_list):\n",
    "        return np.zeros(len(string_list))\n",
    "    \n",
    "    def predict_one(self, string):\n",
    "        return predict([string])"
   ]
  },
  {
   "cell_type": "code",
   "execution_count": 5,
   "id": "f423bab7-8d2b-40bb-ae6d-00a23dc365ca",
   "metadata": {},
   "outputs": [],
   "source": [
    "dummy = DummySentimentClassifier()"
   ]
  },
  {
   "cell_type": "code",
   "execution_count": 6,
   "id": "914776c5-3b41-422c-b560-cbee95ac6ef9",
   "metadata": {},
   "outputs": [],
   "source": [
    "with open('./flask/flask-JH/app/dummy.pkl', 'wb') as f:\n",
    "    pickle.dump(dummy, f)"
   ]
  },
  {
   "cell_type": "code",
   "execution_count": null,
   "id": "49bd0be1-2583-41e7-abb1-b4062f43f23b",
   "metadata": {},
   "outputs": [],
   "source": []
  }
 ],
 "metadata": {
  "kernelspec": {
   "display_name": "Python 3",
   "language": "python",
   "name": "python3"
  },
  "language_info": {
   "codemirror_mode": {
    "name": "ipython",
    "version": 3
   },
   "file_extension": ".py",
   "mimetype": "text/x-python",
   "name": "python",
   "nbconvert_exporter": "python",
   "pygments_lexer": "ipython3",
   "version": "3.8.8"
  }
 },
 "nbformat": 4,
 "nbformat_minor": 5
}
