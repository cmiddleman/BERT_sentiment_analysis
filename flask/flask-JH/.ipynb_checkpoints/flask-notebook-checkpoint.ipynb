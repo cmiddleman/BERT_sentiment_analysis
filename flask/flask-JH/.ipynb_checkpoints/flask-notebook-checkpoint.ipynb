{
 "cells": [
  {
   "cell_type": "markdown",
   "metadata": {
    "slideshow": {
     "slide_type": "slide"
    }
   },
   "source": [
    "# Intro to [Flask](https://flask.palletsprojects.com/en/1.1.x/api/#flask.Flask)\n",
    "\n",
    "#### Chelsea Zaloumis, Dylan Case\n",
    "-----------\n",
    "<img src=\"images/flask.png\" style=\"width: 300px;\">\n",
    "\n"
   ]
  },
  {
   "cell_type": "markdown",
   "metadata": {
    "slideshow": {
     "slide_type": "slide"
    }
   },
   "source": [
    "First things first, let's install flask\n",
    "\n",
    "`pip install Flask`"
   ]
  },
  {
   "cell_type": "markdown",
   "metadata": {
    "slideshow": {
     "slide_type": "slide"
    }
   },
   "source": [
    "Flask is a web micro framework we can use to build web applications in Python. Today we will be copying cells of code from this notebook and/or copying files from the folder **flask_demo_app** and pasting the code in our own vscode files.\n",
    "\n",
    "Flask is a micro framework because it has only two dependencies:\n",
    "\n",
    "● [Werkzeug](https://werkzeug.palletsprojects.com/en/1.0.x/) - a WSGI (Web Server Gateway Interface) utility\n",
    "library for interface between web servers and web applications\n",
    "for the Python programming language.\n",
    "\n",
    "● [Jinja2](https://jinja.palletsprojects.com/en/2.11.x/) - its html template engine"
   ]
  },
  {
   "cell_type": "markdown",
   "metadata": {
    "slideshow": {
     "slide_type": "slide"
    }
   },
   "source": [
    "A simple Flask web application is usually comprised of:\n",
    "* app.py\n",
    "* templates/index.html\n",
    "* static/style.css\n",
    "<img src=\"images/file_struct.png\" style=\"width: 300px;\">"
   ]
  },
  {
   "cell_type": "markdown",
   "metadata": {
    "slideshow": {
     "slide_type": "slide"
    }
   },
   "source": [
    "Flask is **literal**, you must call the folder containing .html files **templates** and you must call the folder containing .css and image files **static**.\n",
    "\n",
    "Flask needs these folders to identify style sheets so your web app can look nice.\n",
    "\n",
    "<img src=\"images/flask_docs.png\" style=\"width: 600px;\">"
   ]
  },
  {
   "cell_type": "markdown",
   "metadata": {
    "slideshow": {
     "slide_type": "slide"
    }
   },
   "source": [
    "# [A DSI capstone made with Flask!](http://www.skirunrecommender.com/)\n",
    "<img src=\"images/ski_run_rec.png\">"
   ]
  },
  {
   "cell_type": "markdown",
   "metadata": {
    "slideshow": {
     "slide_type": "slide"
    }
   },
   "source": [
    "## Basic flask script:\n",
    "\n",
    "Copy and paste into vscode **app.py**"
   ]
  },
  {
   "cell_type": "code",
   "execution_count": null,
   "metadata": {
    "slideshow": {
     "slide_type": "fragment"
    }
   },
   "outputs": [],
   "source": [
    "from flask import Flask\n",
    "\n",
    "app = Flask(__name__)\n",
    "\n",
    "@app.route('/')\n",
    "@app.route('/home')\n",
    "def home():\n",
    "    return \"Hello World!\"\n",
    "\n",
    "if __name__==\"__main__\":\n",
    "    app.run(debug=True)"
   ]
  },
  {
   "cell_type": "markdown",
   "metadata": {
    "slideshow": {
     "slide_type": "slide"
    }
   },
   "source": [
    "1. Import the Flask class.\n",
    "2. Create an instance of this class called **app**. `__name__` tells Flask where to look for templates, static files, etc.\n",
    "3. **Routing with Flask**: The route() decorator tells Flask what URL should trigger our function. Recall: **decorators wrap a function, modifying its behavior.**\n",
    "4. Define a function (the name is irrelevant) that returns the message we want to display in the browser."
   ]
  },
  {
   "cell_type": "markdown",
   "metadata": {
    "slideshow": {
     "slide_type": "slide"
    }
   },
   "source": [
    "Run the Flask app using the following in terminal:\n",
    "\n",
    "`export FLASK_ENV=development`\n",
    "\n",
    "`flask run`\n",
    "\n",
    "<img src=\"images/flask_run_ex.png\" style=\"width: 700px;\">\n",
    "\n",
    "Okay we have a Flask app running! I skipped the part where you [don't set debug to true](https://flask.palletsprojects.com/en/master/debugging/) and then have to restart the server to see changes, cause that's not fun for anyone.\n",
    "\n",
    "Go to the URL your app is running on to see our \"Hello World!\" app."
   ]
  },
  {
   "cell_type": "markdown",
   "metadata": {
    "slideshow": {
     "slide_type": "slide"
    }
   },
   "source": [
    "## How about we try some html!"
   ]
  },
  {
   "cell_type": "code",
   "execution_count": null,
   "metadata": {
    "slideshow": {
     "slide_type": "fragment"
    }
   },
   "outputs": [],
   "source": [
    "from flask import Flask\n",
    "\n",
    "app = Flask(__name__)\n",
    "\n",
    "@app.route('/')\n",
    "@app.route('/home')\n",
    "def home():\n",
    "    return \"\"\"\n",
    "    <html>\n",
    "        <h1>This is the heading!</h1>\n",
    "   \n",
    "        <p>\n",
    "            This is a paragraph!\n",
    "        </p>\n",
    "    </html>\n",
    "   \"\"\"\n",
    "\n",
    "if __name__==\"__main__\":\n",
    "    app.run(debug=True)"
   ]
  },
  {
   "cell_type": "markdown",
   "metadata": {
    "slideshow": {
     "slide_type": "slide"
    }
   },
   "source": [
    "## HTML (Hypertext Markup Language)\n",
    "Written using **tags**, where the tags describe content.\n",
    "\n",
    "| Tag | Description |\n",
    "|:---:|:---:|\n",
    "| ```<h1>``` - ```<h6>``` | Heading |\n",
    "| ```<p>``` | Paragraph |\n",
    "| ```<i>``` | Italic |\n",
    "| ```<b>``` | Bold |\n",
    "| ```<a>``` | Anchor (links) |\n",
    "| ```<ul>``` & ```<li>``` | Unordered List & List Item |\n",
    "| ```<blockquote>``` | Blockquote |\n",
    "| ```<img>``` | Image |\n",
    "| ```<div>``` | Division |"
   ]
  },
  {
   "cell_type": "markdown",
   "metadata": {
    "slideshow": {
     "slide_type": "slide"
    }
   },
   "source": [
    "## Adding Style: 3 ways\n",
    "-----\n",
    "\n",
    "## First, inline!"
   ]
  },
  {
   "cell_type": "code",
   "execution_count": null,
   "metadata": {
    "slideshow": {
     "slide_type": "fragment"
    }
   },
   "outputs": [],
   "source": [
    "def home():\n",
    "    return \"\"\"\n",
    "    <html>\n",
    "        <h1 style=\"color: blue; text-align:center\">This is the heading!</h1>\n",
    "   \n",
    "        <p style=\"background-color:black; color:white; height:80\">\n",
    "            This is a paragraph!\n",
    "        </p>\n",
    "    </html>\n",
    "   \"\"\""
   ]
  },
  {
   "cell_type": "markdown",
   "metadata": {
    "slideshow": {
     "slide_type": "slide"
    }
   },
   "source": [
    "## Using a style block!"
   ]
  },
  {
   "cell_type": "code",
   "execution_count": null,
   "metadata": {
    "slideshow": {
     "slide_type": "fragment"
    }
   },
   "outputs": [],
   "source": [
    "def home():\n",
    "    return \"\"\"\n",
    "    <html>\n",
    "    <style>\n",
    "    h1 {\n",
    "    color: purple;\n",
    "    text-align: center;\n",
    "    }\n",
    "    p {\n",
    "    background-color:aqua; \n",
    "    color:white; \n",
    "    height:80\n",
    "    }\n",
    "    </style>\n",
    "        <h1>This is the heading!</h1>\n",
    "   \n",
    "        <p>\n",
    "            This is a paragraph!\n",
    "        </p>\n",
    "        <p>\n",
    "            Another paragraph!\n",
    "        </p>\n",
    "    </html>\n",
    "   \"\"\""
   ]
  },
  {
   "cell_type": "markdown",
   "metadata": {
    "slideshow": {
     "slide_type": "slide"
    }
   },
   "source": [
    "## Lastly, using a separate [CSS (Cascading Style Sheets) file](https://www.w3schools.com/css/css_intro.asp).\n",
    "\n",
    "Since hard-coding formatting info into HTML is unreasonable for large websites, we can put formatting in CSS. Our HTML templates reference the CSS documents, and use classes and IDs defined there.\n",
    "* **.css** -> **static**\n",
    "* **.html** -> **templates**\n",
    "\n",
    "There's a **main.css** that you can move into your **static** subfolder.\n",
    "Quick note for **static**: you do not need to generate these files on the fly, as their content does not change."
   ]
  },
  {
   "cell_type": "code",
   "execution_count": null,
   "metadata": {
    "slideshow": {
     "slide_type": "notes"
    }
   },
   "outputs": [],
   "source": [
    "'''notes\n",
    "How it looks (CSS/frontend) vs. Content (HTML/backend)\n",
    "    CSS: Themes / appearance\n",
    "    HTML: Specifics / content\n",
    "Project management analogy\n",
    "'''"
   ]
  },
  {
   "cell_type": "markdown",
   "metadata": {
    "slideshow": {
     "slide_type": "slide"
    }
   },
   "source": [
    "# Motivation behind CSS files\n",
    "We can think of cascading style sheets as specifying our web app's theme and overall appearance. CSS specify **HOW IT LOOKS**.\n",
    "* Graphic design\n",
    "* Front end web development\n",
    "\n",
    "This gives us two elements for our web app development. CSS files to specify **how it looks** and HTML templates to specify **the content**.\n",
    "\n",
    "Let's look into **main.css** to see how we add style formatting."
   ]
  },
  {
   "cell_type": "markdown",
   "metadata": {
    "slideshow": {
     "slide_type": "slide"
    }
   },
   "source": [
    "**HTML tags**\n",
    "``` html\n",
    "h1, h2, h3, h4, h5, h6 {\n",
    "  color: #444444;\n",
    "}\n",
    "```\n",
    "[**HTML classes**](https://www.w3schools.com/html/html_classes.asp)\n",
    "``` html\n",
    ".bg-steel {\n",
    "  background-color: #65131a;\n",
    "}\n",
    "p.form-inputs {\n",
    "  width: 300px;\n",
    "  display: flex;\n",
    "  justify-content: space-between;\n",
    "}\n",
    "```\n",
    "[**HTML id**](https://www.w3schools.com/html/html_id.asp)\n",
    "``` html\n",
    "#image1 {\n",
    "  width: 400px\n",
    "}\n",
    "```"
   ]
  },
  {
   "cell_type": "markdown",
   "metadata": {
    "slideshow": {
     "slide_type": "slide"
    }
   },
   "source": [
    "Now, let's start populating our **templates** subfolder with some html files. We will use templates instead of including all html for a page in a given function.\n",
    "\n",
    "Move **home.html** into our **templates** subfolder, then import **render_template** in **app.py**."
   ]
  },
  {
   "cell_type": "code",
   "execution_count": null,
   "metadata": {
    "slideshow": {
     "slide_type": "fragment"
    }
   },
   "outputs": [],
   "source": [
    "from flask import Flask, render_template\n",
    "\n",
    "app = Flask(__name__)\n",
    "\n",
    "@app.route('/')\n",
    "@app.route('/home')\n",
    "def home():\n",
    "    return render_template(\"home.html\")\n",
    "\n",
    "if __name__==\"__main__\":\n",
    "    app.run(debug=True)"
   ]
  },
  {
   "cell_type": "code",
   "execution_count": null,
   "metadata": {
    "slideshow": {
     "slide_type": "notes"
    }
   },
   "outputs": [],
   "source": [
    "# Look at home page before we start making updates."
   ]
  },
  {
   "cell_type": "markdown",
   "metadata": {
    "slideshow": {
     "slide_type": "slide"
    }
   },
   "source": [
    "Now that we've got the basics down, we will start adding different pages and some form input!\n",
    "\n",
    "Add **layout.html** to your templates subfolder. This will set the basic style for all of our pages.\n",
    "\n",
    "<img src=\"images/home_layout.png\" style=\"width: 300px;\">"
   ]
  },
  {
   "cell_type": "markdown",
   "metadata": {
    "slideshow": {
     "slide_type": "slide"
    }
   },
   "source": [
    "## [Jinja](https://jinja.palletsprojects.com/en/2.11.x/templates/)\n",
    "\n",
    "Jinja is a templating language for Python. It allows HTML to be removed from the Flask app and placed into a template, and allows data to be passed in so that we can dynamically change our web page with the data it is given.\n",
    "\n",
    "We will use `{% block content %}` `{% endblock %}` in the HTML files we create to extend the **layout.html** template."
   ]
  },
  {
   "cell_type": "markdown",
   "metadata": {
    "slideshow": {
     "slide_type": "slide"
    }
   },
   "source": [
    "Add Jinja formatting to **home.html**:"
   ]
  },
  {
   "cell_type": "markdown",
   "metadata": {
    "slideshow": {
     "slide_type": "fragment"
    }
   },
   "source": [
    "`{% extends \"layout.html\" %}`\n",
    "\n",
    "`{% block content %}`\n",
    "\n",
    "HTML content goes in here!\n",
    "\n",
    "`{% endblock content %}`"
   ]
  },
  {
   "cell_type": "markdown",
   "metadata": {
    "slideshow": {
     "slide_type": "slide"
    }
   },
   "source": [
    "# Flask Workflow\n",
    "1. Build and make edits to your Flask app in a file **app.py**.\n",
    "2. Add **.html** files to **templates** subfolder to specify your page's content and **.css** files to **static** to specify appearance.\n",
    "3. Run Flask in development environment: reflect changes by refreshing page.\n",
    "4. Optional: inspect web page to experiment.\n",
    "5. Repeat repeat repeat until your web application is looking good!"
   ]
  },
  {
   "cell_type": "markdown",
   "metadata": {
    "slideshow": {
     "slide_type": "slide"
    }
   },
   "source": [
    "# Modeling with Flask\n",
    "Now that we can design our Flask application (and make it look beautiful), you're probably wondering how we add the Data Science?\n",
    "* User input / model variables\n",
    "* Modeling\n",
    "* Displaying results / images\n",
    "\n",
    "So let's talk HTTP methods (or verbs)..."
   ]
  },
  {
   "cell_type": "markdown",
   "metadata": {
    "slideshow": {
     "slide_type": "slide"
    }
   },
   "source": [
    "# [HTTP Methods](https://pythonbasics.org/flask-http-methods/) in Flask\n",
    "<img src=\"images/get_post_requests.png\">\n",
    "\n",
    "When a page involves transmitting data between client and server, specify the HTTP method in the routing decorator.\n",
    "* **GET method**\n",
    "    * browser retrieves info from the server\n",
    "    * most common method (default)\n",
    "* **POST method**\n",
    "    * the browser sends data to the server"
   ]
  },
  {
   "cell_type": "markdown",
   "metadata": {
    "slideshow": {
     "slide_type": "slide"
    }
   },
   "source": [
    "We did not need to specify the **GET** for our home route because it's the default!\n",
    "\n",
    "```python\n",
    "@app.route('/')\n",
    "@app.route('/home', methods=['GET'])\n",
    "def home():\n",
    "    return render_template(\"home.html\")\n",
    "```"
   ]
  },
  {
   "cell_type": "markdown",
   "metadata": {
    "slideshow": {
     "slide_type": "slide"
    }
   },
   "source": [
    "\n",
    "Create **/about**, **/eda**, and **/graph** routes in app.py.\n",
    "And move **about.html**, **eda.html**, and **graphs.html** to your **templates** subfolder."
   ]
  },
  {
   "cell_type": "code",
   "execution_count": null,
   "metadata": {
    "slideshow": {
     "slide_type": "fragment"
    }
   },
   "outputs": [],
   "source": [
    "from flask import Flask, render_template, url_for, request\n",
    "\n",
    "@app.route('/about')\n",
    "def about():\n",
    "    return render_template(\"about.html\")\n",
    "\n",
    "@app.route('/eda')\n",
    "def eda():\n",
    "    column_options = [1, 2, 3, 4]\n",
    "    return render_template(\"eda.html\", column_options=column_options)\n",
    "\n",
    "@app.route('/graphs', methods=['POST'])\n",
    "def graphs():\n",
    "    col1 = int(request.form['column1']) - 1\n",
    "    col2 = int(request.form['column2']) - 1\n",
    "\n",
    "    if col1 == col2:\n",
    "        return f'Why do you want to graph column {col1+1} by itself?!'\n",
    "    else:\n",
    "        return render_template('graphs.html', col1=col1+1, col2=col2+1, url=f'./static/images/col{col1}col{col2}.png')"
   ]
  },
  {
   "cell_type": "code",
   "execution_count": null,
   "metadata": {
    "jupyter": {
     "source_hidden": true
    },
    "slideshow": {
     "slide_type": "notes"
    }
   },
   "outputs": [],
   "source": [
    "'''notes\n",
    "Walk through pasting import (keeping app instance and home) and pasting about, eda, and graphs route.\n",
    "Talk through eda and defining user inputs.\n",
    "    Sending variables to html template with render_template\n",
    "    Accessing those variables in the html template\n",
    "    Defining an action for your html template with\n",
    "    <form action=\"/graphs\" method='post'>\n",
    "\n",
    "    Name of variable for access to variables on page we're posting info to (i.e. graphs)\n",
    "    Using request to unpack those named variables from the specific class\n",
    "        request.form (class='form-inputs' in eda.html)\n",
    "    Throwing brief error with if-else statement\n",
    "    Sending variables with render_template to html template\n",
    "    \n",
    "    Images: defining a url path to the static folder with images subfolder\n",
    "    Copy and paste images subfolder in your own static\n",
    "    Take note of f-string formatting to find the right image for the columns the user chose\n",
    "    \n",
    "    In graphs.html, walk through using the variables passed into render_template\n",
    "'''"
   ]
  },
  {
   "cell_type": "markdown",
   "metadata": {
    "slideshow": {
     "slide_type": "slide"
    }
   },
   "source": [
    "One thing worth mentioning is that building a Flask App is a **TRIAL & ERROR** process.\n",
    "\n",
    "The best way to test syntax and Flask's capabilities is by experimenting and breaking your code!\n",
    "\n",
    "With that being said, let's look at various ways to obtain user input."
   ]
  },
  {
   "cell_type": "markdown",
   "metadata": {
    "slideshow": {
     "slide_type": "slide"
    }
   },
   "source": [
    "# Text Input Field\n",
    "## Add to **eda.html** and update **app.py**"
   ]
  },
  {
   "cell_type": "code",
   "execution_count": null,
   "metadata": {
    "slideshow": {
     "slide_type": "fragment"
    }
   },
   "outputs": [],
   "source": [
    "<p class = 'important-paragraph form-inputs'>\n",
    "    <label for='t1'>Text input field: </label>\n",
    "    <input type='text' name='text_input1' id='t1'/>\n",
    "</p>\n",
    "    \n",
    "<p class = 'important-paragraph form-inputs'>\n",
    "    <label for='t2'>Another text input field: </label>\n",
    "    <input type='text' name='text_input2' id='t2'/>\n",
    "</p>"
   ]
  },
  {
   "cell_type": "code",
   "execution_count": null,
   "metadata": {
    "slideshow": {
     "slide_type": "fragment"
    }
   },
   "outputs": [],
   "source": [
    "@app.route('/graphs', methods=['POST'])\n",
    "def graphs():\n",
    "    col1 = int(request.form['column1']) - 1\n",
    "    col2 = int(request.form['column2']) - 1\n",
    "\n",
    "    t1 = str(request.form['text_input1'])\n",
    "    t2 = str(request.form['text_input2'])"
   ]
  },
  {
   "cell_type": "markdown",
   "metadata": {
    "slideshow": {
     "slide_type": "slide"
    }
   },
   "source": [
    "# Add to **graphs.html**, save, and refresh"
   ]
  },
  {
   "cell_type": "code",
   "execution_count": null,
   "metadata": {
    "slideshow": {
     "slide_type": "fragment"
    }
   },
   "outputs": [],
   "source": [
    "<p>\n",
    "  {{t1}}\n",
    "  {{t2}}\n",
    "</p>"
   ]
  },
  {
   "cell_type": "markdown",
   "metadata": {
    "slideshow": {
     "slide_type": "slide"
    }
   },
   "source": [
    "# Radio Button"
   ]
  },
  {
   "cell_type": "code",
   "execution_count": null,
   "metadata": {
    "slideshow": {
     "slide_type": "fragment"
    }
   },
   "outputs": [],
   "source": [
    "<p class = 'form-inputs'>\n",
    "    <input type=\"radio\" name=\"gender\" value=\"left\"> Left\n",
    "    <br>\n",
    "    <input type=\"radio\" name=\"gender\" value=\"right\"> Right\n",
    "</p>"
   ]
  },
  {
   "cell_type": "markdown",
   "metadata": {
    "slideshow": {
     "slide_type": "fragment"
    }
   },
   "source": [
    "# Calendar Input"
   ]
  },
  {
   "cell_type": "code",
   "execution_count": null,
   "metadata": {
    "slideshow": {
     "slide_type": "fragment"
    }
   },
   "outputs": [],
   "source": [
    "<p class = 'important-paragraph'>\n",
    "    <b><label for=\"date\">Select a date:</label></b>\n",
    "    <br>\n",
    "    <input type=\"date\" id=\"date\" name=\"date\" class=\"form-control\" format=\"%-m/%-d/%Y\" placeholder=\"MM-DD-YYYY\">\n",
    "</p>      "
   ]
  },
  {
   "cell_type": "markdown",
   "metadata": {
    "slideshow": {
     "slide_type": "slide"
    }
   },
   "source": [
    "# Modeling with Flask\n",
    "Notice we have one more page to populate in our navigation bar: **/predict**.\n",
    "\n",
    "1. Obtain user input (model variables) in **/predict** with **predict.html**.\n",
    "2. Post input to **/results**.\n",
    "3. Define **results function** to request input, load a saved model, and make predictions with the model.\n",
    "4. Render **results.html** to display your model's prediction."
   ]
  },
  {
   "cell_type": "markdown",
   "metadata": {
    "slideshow": {
     "slide_type": "slide"
    }
   },
   "source": [
    "# Copy predict.html to templates\n",
    "Note that **predict.html** already includes a form action to post the input to **/results**.\n",
    "\n",
    "### We'll be using the sklearn iris dataset to predict the type of iris based off some user input.\n",
    "\n",
    "Route **/predict** in **app.py**. "
   ]
  },
  {
   "cell_type": "code",
   "execution_count": null,
   "metadata": {
    "slideshow": {
     "slide_type": "fragment"
    }
   },
   "outputs": [],
   "source": [
    "@app.route('/predict')\n",
    "def predict():\n",
    "    return render_template('predict.html')"
   ]
  },
  {
   "cell_type": "markdown",
   "metadata": {
    "slideshow": {
     "slide_type": "slide"
    }
   },
   "source": [
    "# Obtain input with **/results** route in app.py"
   ]
  },
  {
   "cell_type": "code",
   "execution_count": null,
   "metadata": {
    "slideshow": {
     "slide_type": "fragment"
    }
   },
   "outputs": [],
   "source": [
    "import numpy as np\n",
    "from sklearn.datasets import load_iris\n",
    "import pickle"
   ]
  },
  {
   "cell_type": "code",
   "execution_count": null,
   "metadata": {
    "slideshow": {
     "slide_type": "fragment"
    }
   },
   "outputs": [],
   "source": [
    "@app.route('/results', methods=['POST'])\n",
    "def results():\n",
    "    sepal_length = float(request.form['sepal_length'])\n",
    "    sepal_width = float(request.form['sepal_width'])\n",
    "    petal_length = float(request.form['petal_length'])\n",
    "    petal_width = float(request.form['petal_width'])\n",
    "\n",
    "    test_data = np.array([sepal_length, sepal_width, petal_length, petal_width]).reshape(1, -1)\n",
    "\n",
    "# we will continue writing the results function..."
   ]
  },
  {
   "cell_type": "markdown",
   "metadata": {
    "slideshow": {
     "slide_type": "slide"
    }
   },
   "source": [
    "# [Load the pickled model](https://www.tutorialsteacher.com/python/python-read-write-file#:~:text=Description,reading%20only%20in%20binary%20format.) and make predictions...\n",
    "Using ```iris_log_regr.pkl``` in the lecture folder, we're going to make logistic regression predictions.\n",
    "\n",
    "Add the following to your results function:"
   ]
  },
  {
   "cell_type": "code",
   "execution_count": null,
   "metadata": {
    "slideshow": {
     "slide_type": "fragment"
    }
   },
   "outputs": [],
   "source": [
    "filename = 'iris_log_regr.pkl'\n",
    "with open(filename, 'rb') as f:\n",
    "    model = pickle.load(f)\n",
    "\n",
    "prediction = model.predict(test_data)\n",
    "\n",
    "data = load_iris()\n",
    "target_names = data.target_names\n",
    "for name in target_names[prediction]:\n",
    "    predicted_name = name\n",
    "    \n",
    "return render_template('results.html', prediction=predicted_name, image=f'./static/images/iris.png')"
   ]
  },
  {
   "cell_type": "markdown",
   "metadata": {
    "slideshow": {
     "slide_type": "slide"
    }
   },
   "source": [
    "Copy **results.html** to templates."
   ]
  },
  {
   "cell_type": "markdown",
   "metadata": {
    "slideshow": {
     "slide_type": "slide"
    }
   },
   "source": [
    "# Dynamic Plots\n",
    "We can plot images without saving them in the static folder using [io: input/output library](https://docs.python.org/3/library/io.html) (and some other matplotlib imports)."
   ]
  },
  {
   "cell_type": "code",
   "execution_count": null,
   "metadata": {
    "slideshow": {
     "slide_type": "fragment"
    }
   },
   "outputs": [],
   "source": [
    "from matplotlib.figure import Figure\n",
    "from matplotlib.backends.backend_agg import FigureCanvasAgg as FigureCanvas\n",
    "from io import BytesIO\n",
    "import base64\n",
    "import random"
   ]
  },
  {
   "cell_type": "markdown",
   "metadata": {
    "slideshow": {
     "slide_type": "slide"
    }
   },
   "source": [
    "Add to **app.py** in your **/graphs** route."
   ]
  },
  {
   "cell_type": "code",
   "execution_count": null,
   "metadata": {
    "slideshow": {
     "slide_type": "fragment"
    }
   },
   "outputs": [],
   "source": [
    "fig = Figure()\n",
    "ax = fig.subplots()\n",
    "ax.scatter([random.random() for i in range(100)], [random.random() for i in range(100)])\n",
    "ax.set_title('A Very Random Scatterplot')\n",
    "pngImage = BytesIO()\n",
    "FigureCanvas(fig).print_png(pngImage)\n",
    "pngImageB64String = \"data:image/png;base64,\"\n",
    "pngImageB64String += base64.b64encode(pngImage.getvalue()).decode('utf8')"
   ]
  },
  {
   "cell_type": "markdown",
   "metadata": {
    "slideshow": {
     "slide_type": "slide"
    }
   },
   "source": [
    "Lastly, update **graphs.html** wherever you want the image to show up."
   ]
  },
  {
   "cell_type": "code",
   "execution_count": null,
   "metadata": {},
   "outputs": [],
   "source": [
    "<img src={{image}}>"
   ]
  },
  {
   "cell_type": "markdown",
   "metadata": {
    "slideshow": {
     "slide_type": "slide"
    }
   },
   "source": [
    "# Resources \n",
    "* [HTML tutorials](https://www.tutorialrepublic.com/html-examples.php)\n",
    "* [Text input field](https://www.tutorialrepublic.com/codelab.php?topic=html&file=text-field)\n",
    "* [Dropdown list](https://www.tutorialrepublic.com/codelab.php?topic=html&file=select-box-02)\n",
    "* [Bootstrap](https://getbootstrap.com)\n",
    "* [CSS](https://www.w3schools.com/css/css_intro.asp) & [Linking a CSS](https://www.tutorialrepublic.com/codelab.php?topic=html&file=linking-external-style-sheet)\n",
    "* [HTTP Methods](https://www.w3schools.com/tags/ref_httpmethods.asp)\n",
    "* [Flask overview](https://www.fullstackpython.com/flask.html)\n",
    "* [Flask with PostgresSQL database deployed on Heroku with many front end refinements](https://realpython.com/flask-by-example-part-1-project-setup/)\n",
    "* [Another Flask tutorial (pshhhhh as if this one wasn't good enough...)](https://blog.miguelgrinberg.com/post/the-flask-mega-tutorial-now-with-python-3-support)"
   ]
  },
  {
   "cell_type": "markdown",
   "metadata": {},
   "source": [
    "# Alternatives and Extensions to Flask\n",
    "\n",
    "* [Dash vs Flask vs Streamlit vs ...](https://www.datarevenue.com/en-blog/data-dashboarding-streamlit-vs-dash-vs-shiny-vs-voila)\n",
    "* [Streamlit](https://streamlit.io)\n",
    "* [Streamlit Cheat Sheet](https://share.streamlit.io/daniellewisdl/streamlit-cheat-sheet/app.py)\n",
    "* [Dash](https://plotly.com/dash/)\n",
    "* [JupyterDash](https://medium.com/plotly/introducing-jupyterdash-811f1f57c02e)"
   ]
  },
  {
   "cell_type": "code",
   "execution_count": null,
   "metadata": {},
   "outputs": [],
   "source": []
  }
 ],
 "metadata": {
  "celltoolbar": "Slideshow",
  "kernelspec": {
   "display_name": "Python 3",
   "language": "python",
   "name": "python3"
  },
  "language_info": {
   "codemirror_mode": {
    "name": "ipython",
    "version": 3
   },
   "file_extension": ".py",
   "mimetype": "text/x-python",
   "name": "python",
   "nbconvert_exporter": "python",
   "pygments_lexer": "ipython3",
   "version": "3.8.5"
  }
 },
 "nbformat": 4,
 "nbformat_minor": 4
}
